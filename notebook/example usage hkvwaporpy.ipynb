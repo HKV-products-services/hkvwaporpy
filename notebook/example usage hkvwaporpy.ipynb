{
 "cells": [
  {
   "cell_type": "code",
   "execution_count": 1,
   "metadata": {},
   "outputs": [],
   "source": [
    "import hkvwaporpy as hkv\n",
    "import pandas as pd\n",
    "import datetime\n",
    "from io import BytesIO\n",
    "import uuid\n",
    "from osgeo import gdal\n",
    "import requests\n",
    "from matplotlib import pyplot as plt\n",
    "%matplotlib inline"
   ]
  },
  {
   "cell_type": "markdown",
   "metadata": {},
   "source": [
    "#### Metadata request for available products"
   ]
  },
  {
   "cell_type": "code",
   "execution_count": 2,
   "metadata": {},
   "outputs": [
    {
     "name": "stdout",
     "output_type": "stream",
     "text": [
      "https://io.apps.fao.org/gismgr/api/v1/catalog/workspaces/WAPOR/cubes?overview=False\n"
     ]
    },
    {
     "data": {
      "text/html": [
       "<div>\n",
       "<style scoped>\n",
       "    .dataframe tbody tr th:only-of-type {\n",
       "        vertical-align: middle;\n",
       "    }\n",
       "\n",
       "    .dataframe tbody tr th {\n",
       "        vertical-align: top;\n",
       "    }\n",
       "\n",
       "    .dataframe thead th {\n",
       "        text-align: right;\n",
       "    }\n",
       "</style>\n",
       "<table border=\"1\" class=\"dataframe\">\n",
       "  <thead>\n",
       "    <tr style=\"text-align: right;\">\n",
       "      <th></th>\n",
       "      <th>additionalInfo</th>\n",
       "      <th>caption</th>\n",
       "      <th>code</th>\n",
       "      <th>dataType</th>\n",
       "      <th>description</th>\n",
       "      <th>hidden</th>\n",
       "      <th>index</th>\n",
       "      <th>links</th>\n",
       "      <th>operation</th>\n",
       "      <th>tags</th>\n",
       "      <th>workspaceCode</th>\n",
       "    </tr>\n",
       "  </thead>\n",
       "  <tbody>\n",
       "    <tr>\n",
       "      <th>0</th>\n",
       "      <td>{'format': 'Raster Dataset', 'unit': 'kg/m³ is...</td>\n",
       "      <td>Gross Biomass Water Productivity</td>\n",
       "      <td>L1_GBWP_A</td>\n",
       "      <td>RASTER</td>\n",
       "      <td>The annual Gross Biomass Water Productivity ex...</td>\n",
       "      <td>False</td>\n",
       "      <td>101</td>\n",
       "      <td>[{'rel': 'self', 'href': 'https://io.apps.fao....</td>\n",
       "      <td>{'pixelTimeSeries': True, 'areaStats': False}</td>\n",
       "      <td>[{'name': 'L1', 'index': 1, 'context': 'LEVELS...</td>\n",
       "      <td>WAPOR</td>\n",
       "    </tr>\n",
       "    <tr>\n",
       "      <th>1</th>\n",
       "      <td>{'format': 'Raster Dataset', 'unit': 'kg/m³ is...</td>\n",
       "      <td>Net Biomass Water Productivity</td>\n",
       "      <td>L1_NBWP_A</td>\n",
       "      <td>RASTER</td>\n",
       "      <td>The annual Net Biomass Water Productivity expr...</td>\n",
       "      <td>False</td>\n",
       "      <td>102</td>\n",
       "      <td>[{'rel': 'self', 'href': 'https://io.apps.fao....</td>\n",
       "      <td>{'pixelTimeSeries': True, 'areaStats': False}</td>\n",
       "      <td>[{'name': 'L1', 'index': 2, 'context': 'LEVELS...</td>\n",
       "      <td>WAPOR</td>\n",
       "    </tr>\n",
       "    <tr>\n",
       "      <th>2</th>\n",
       "      <td>{'format': 'Raster Dataset', 'unit': 'mm', 'da...</td>\n",
       "      <td>Actual EvapoTranspiration and Interception (An...</td>\n",
       "      <td>L1_AETI_A</td>\n",
       "      <td>RASTER</td>\n",
       "      <td>The actual EvapoTranspiration and Interceptio...</td>\n",
       "      <td>False</td>\n",
       "      <td>103</td>\n",
       "      <td>[{'rel': 'self', 'href': 'https://io.apps.fao....</td>\n",
       "      <td>{'pixelTimeSeries': True, 'areaStats': False}</td>\n",
       "      <td>[{'name': 'L1', 'index': 3, 'context': 'LEVELS...</td>\n",
       "      <td>WAPOR</td>\n",
       "    </tr>\n",
       "    <tr>\n",
       "      <th>3</th>\n",
       "      <td>{'format': 'Raster Dataset', 'unit': 'mm', 'da...</td>\n",
       "      <td>Actual EvapoTranspiration and Interception (De...</td>\n",
       "      <td>L1_AETI_D</td>\n",
       "      <td>RASTER</td>\n",
       "      <td>The actual EvapoTranspiration and Interception...</td>\n",
       "      <td>False</td>\n",
       "      <td>104</td>\n",
       "      <td>[{'rel': 'self', 'href': 'https://io.apps.fao....</td>\n",
       "      <td>{'pixelTimeSeries': True, 'areaStats': False}</td>\n",
       "      <td>[{'name': 'L1', 'index': 4, 'context': 'LEVELS...</td>\n",
       "      <td>WAPOR</td>\n",
       "    </tr>\n",
       "    <tr>\n",
       "      <th>4</th>\n",
       "      <td>{'format': 'Raster Dataset', 'unit': 'mm', 'da...</td>\n",
       "      <td>Transpiration (Annual)</td>\n",
       "      <td>L1_T_A</td>\n",
       "      <td>RASTER</td>\n",
       "      <td>The Transpiration (T) data component is the ac...</td>\n",
       "      <td>False</td>\n",
       "      <td>105</td>\n",
       "      <td>[{'rel': 'self', 'href': 'https://io.apps.fao....</td>\n",
       "      <td>{'pixelTimeSeries': True, 'areaStats': False}</td>\n",
       "      <td>[{'name': 'L1', 'index': 5, 'context': 'LEVELS...</td>\n",
       "      <td>WAPOR</td>\n",
       "    </tr>\n",
       "  </tbody>\n",
       "</table>\n",
       "</div>"
      ],
      "text/plain": [
       "                                      additionalInfo  \\\n",
       "0  {'format': 'Raster Dataset', 'unit': 'kg/m³ is...   \n",
       "1  {'format': 'Raster Dataset', 'unit': 'kg/m³ is...   \n",
       "2  {'format': 'Raster Dataset', 'unit': 'mm', 'da...   \n",
       "3  {'format': 'Raster Dataset', 'unit': 'mm', 'da...   \n",
       "4  {'format': 'Raster Dataset', 'unit': 'mm', 'da...   \n",
       "\n",
       "                                             caption       code dataType  \\\n",
       "0                   Gross Biomass Water Productivity  L1_GBWP_A   RASTER   \n",
       "1                     Net Biomass Water Productivity  L1_NBWP_A   RASTER   \n",
       "2  Actual EvapoTranspiration and Interception (An...  L1_AETI_A   RASTER   \n",
       "3  Actual EvapoTranspiration and Interception (De...  L1_AETI_D   RASTER   \n",
       "4                             Transpiration (Annual)     L1_T_A   RASTER   \n",
       "\n",
       "                                         description  hidden  index  \\\n",
       "0  The annual Gross Biomass Water Productivity ex...   False    101   \n",
       "1  The annual Net Biomass Water Productivity expr...   False    102   \n",
       "2   The actual EvapoTranspiration and Interceptio...   False    103   \n",
       "3  The actual EvapoTranspiration and Interception...   False    104   \n",
       "4  The Transpiration (T) data component is the ac...   False    105   \n",
       "\n",
       "                                               links  \\\n",
       "0  [{'rel': 'self', 'href': 'https://io.apps.fao....   \n",
       "1  [{'rel': 'self', 'href': 'https://io.apps.fao....   \n",
       "2  [{'rel': 'self', 'href': 'https://io.apps.fao....   \n",
       "3  [{'rel': 'self', 'href': 'https://io.apps.fao....   \n",
       "4  [{'rel': 'self', 'href': 'https://io.apps.fao....   \n",
       "\n",
       "                                       operation  \\\n",
       "0  {'pixelTimeSeries': True, 'areaStats': False}   \n",
       "1  {'pixelTimeSeries': True, 'areaStats': False}   \n",
       "2  {'pixelTimeSeries': True, 'areaStats': False}   \n",
       "3  {'pixelTimeSeries': True, 'areaStats': False}   \n",
       "4  {'pixelTimeSeries': True, 'areaStats': False}   \n",
       "\n",
       "                                                tags workspaceCode  \n",
       "0  [{'name': 'L1', 'index': 1, 'context': 'LEVELS...         WAPOR  \n",
       "1  [{'name': 'L1', 'index': 2, 'context': 'LEVELS...         WAPOR  \n",
       "2  [{'name': 'L1', 'index': 3, 'context': 'LEVELS...         WAPOR  \n",
       "3  [{'name': 'L1', 'index': 4, 'context': 'LEVELS...         WAPOR  \n",
       "4  [{'name': 'L1', 'index': 5, 'context': 'LEVELS...         WAPOR  "
      ]
     },
     "execution_count": 2,
     "metadata": {},
     "output_type": "execute_result"
    }
   ],
   "source": [
    "# request the catalogus\n",
    "df = hkv.read_wapor.get_catalogus()\n",
    "df.head()"
   ]
  },
  {
   "cell_type": "markdown",
   "metadata": {},
   "source": [
    "#### show all codes"
   ]
  },
  {
   "cell_type": "code",
   "execution_count": 3,
   "metadata": {},
   "outputs": [
    {
     "data": {
      "text/html": [
       "<div>\n",
       "<style scoped>\n",
       "    .dataframe tbody tr th:only-of-type {\n",
       "        vertical-align: middle;\n",
       "    }\n",
       "\n",
       "    .dataframe tbody tr th {\n",
       "        vertical-align: top;\n",
       "    }\n",
       "\n",
       "    .dataframe thead th {\n",
       "        text-align: right;\n",
       "    }\n",
       "</style>\n",
       "<table border=\"1\" class=\"dataframe\">\n",
       "  <thead>\n",
       "    <tr style=\"text-align: right;\">\n",
       "      <th></th>\n",
       "      <th>caption</th>\n",
       "      <th>code</th>\n",
       "    </tr>\n",
       "  </thead>\n",
       "  <tbody>\n",
       "    <tr>\n",
       "      <th>0</th>\n",
       "      <td>Gross Biomass Water Productivity</td>\n",
       "      <td>L1_GBWP_A</td>\n",
       "    </tr>\n",
       "    <tr>\n",
       "      <th>1</th>\n",
       "      <td>Net Biomass Water Productivity</td>\n",
       "      <td>L1_NBWP_A</td>\n",
       "    </tr>\n",
       "    <tr>\n",
       "      <th>2</th>\n",
       "      <td>Actual EvapoTranspiration and Interception (An...</td>\n",
       "      <td>L1_AETI_A</td>\n",
       "    </tr>\n",
       "    <tr>\n",
       "      <th>3</th>\n",
       "      <td>Actual EvapoTranspiration and Interception (De...</td>\n",
       "      <td>L1_AETI_D</td>\n",
       "    </tr>\n",
       "    <tr>\n",
       "      <th>4</th>\n",
       "      <td>Transpiration (Annual)</td>\n",
       "      <td>L1_T_A</td>\n",
       "    </tr>\n",
       "    <tr>\n",
       "      <th>5</th>\n",
       "      <td>Evaporation (Annual)</td>\n",
       "      <td>L1_E_A</td>\n",
       "    </tr>\n",
       "    <tr>\n",
       "      <th>6</th>\n",
       "      <td>Interception (Annual)</td>\n",
       "      <td>L1_I_A</td>\n",
       "    </tr>\n",
       "    <tr>\n",
       "      <th>7</th>\n",
       "      <td>Transpiration (Dekadal)</td>\n",
       "      <td>L1_T_D</td>\n",
       "    </tr>\n",
       "    <tr>\n",
       "      <th>8</th>\n",
       "      <td>Evaporation (Dekadal)</td>\n",
       "      <td>L1_E_D</td>\n",
       "    </tr>\n",
       "    <tr>\n",
       "      <th>9</th>\n",
       "      <td>Interception (Dekadal)</td>\n",
       "      <td>L1_I_D</td>\n",
       "    </tr>\n",
       "    <tr>\n",
       "      <th>10</th>\n",
       "      <td>Net Primary Production</td>\n",
       "      <td>L1_NPP_D</td>\n",
       "    </tr>\n",
       "    <tr>\n",
       "      <th>11</th>\n",
       "      <td>Above Ground Biomass Production</td>\n",
       "      <td>L1_AGBP_A</td>\n",
       "    </tr>\n",
       "    <tr>\n",
       "      <th>12</th>\n",
       "      <td>Land Cover Classification</td>\n",
       "      <td>L1_LCC_A</td>\n",
       "    </tr>\n",
       "    <tr>\n",
       "      <th>13</th>\n",
       "      <td>Reference EvapoTranspiration</td>\n",
       "      <td>L1_RET_E</td>\n",
       "    </tr>\n",
       "    <tr>\n",
       "      <th>14</th>\n",
       "      <td>Precipitation</td>\n",
       "      <td>L1_PCP_E</td>\n",
       "    </tr>\n",
       "    <tr>\n",
       "      <th>15</th>\n",
       "      <td>Quality Normalized Difference Vegetation Index</td>\n",
       "      <td>L1_QUAL_NDVI_D</td>\n",
       "    </tr>\n",
       "    <tr>\n",
       "      <th>16</th>\n",
       "      <td>Quality Land Surface Temperature</td>\n",
       "      <td>L1_QUAL_LST_D</td>\n",
       "    </tr>\n",
       "    <tr>\n",
       "      <th>17</th>\n",
       "      <td>Actual EvapoTranspiration and Interception (An...</td>\n",
       "      <td>L2_AETI_A</td>\n",
       "    </tr>\n",
       "    <tr>\n",
       "      <th>18</th>\n",
       "      <td>Actual EvapoTranspiration and Interception (De...</td>\n",
       "      <td>L2_AETI_D</td>\n",
       "    </tr>\n",
       "    <tr>\n",
       "      <th>19</th>\n",
       "      <td>Transpiration (Annual)</td>\n",
       "      <td>L2_T_A</td>\n",
       "    </tr>\n",
       "  </tbody>\n",
       "</table>\n",
       "</div>"
      ],
      "text/plain": [
       "                                              caption            code\n",
       "0                    Gross Biomass Water Productivity       L1_GBWP_A\n",
       "1                      Net Biomass Water Productivity       L1_NBWP_A\n",
       "2   Actual EvapoTranspiration and Interception (An...       L1_AETI_A\n",
       "3   Actual EvapoTranspiration and Interception (De...       L1_AETI_D\n",
       "4                              Transpiration (Annual)          L1_T_A\n",
       "5                                Evaporation (Annual)          L1_E_A\n",
       "6                               Interception (Annual)          L1_I_A\n",
       "7                             Transpiration (Dekadal)          L1_T_D\n",
       "8                               Evaporation (Dekadal)          L1_E_D\n",
       "9                              Interception (Dekadal)          L1_I_D\n",
       "10                             Net Primary Production        L1_NPP_D\n",
       "11                    Above Ground Biomass Production       L1_AGBP_A\n",
       "12                          Land Cover Classification        L1_LCC_A\n",
       "13                       Reference EvapoTranspiration        L1_RET_E\n",
       "14                                      Precipitation        L1_PCP_E\n",
       "15     Quality Normalized Difference Vegetation Index  L1_QUAL_NDVI_D\n",
       "16                   Quality Land Surface Temperature   L1_QUAL_LST_D\n",
       "17  Actual EvapoTranspiration and Interception (An...       L2_AETI_A\n",
       "18  Actual EvapoTranspiration and Interception (De...       L2_AETI_D\n",
       "19                             Transpiration (Annual)          L2_T_A"
      ]
     },
     "execution_count": 3,
     "metadata": {},
     "output_type": "execute_result"
    }
   ],
   "source": [
    "df[['caption','code']]"
   ]
  },
  {
   "cell_type": "markdown",
   "metadata": {},
   "source": [
    "#### select product / code of interest"
   ]
  },
  {
   "cell_type": "code",
   "execution_count": 4,
   "metadata": {},
   "outputs": [],
   "source": [
    "ds_code = 'L2_AETI_A'"
   ]
  },
  {
   "cell_type": "markdown",
   "metadata": {},
   "source": [
    "#### get additional info of the dataset given a code and catalogus"
   ]
  },
  {
   "cell_type": "code",
   "execution_count": 5,
   "metadata": {},
   "outputs": [
    {
     "data": {
      "text/html": [
       "<div>\n",
       "<style scoped>\n",
       "    .dataframe tbody tr th:only-of-type {\n",
       "        vertical-align: middle;\n",
       "    }\n",
       "\n",
       "    .dataframe tbody tr th {\n",
       "        vertical-align: top;\n",
       "    }\n",
       "\n",
       "    .dataframe thead th {\n",
       "        text-align: right;\n",
       "    }\n",
       "</style>\n",
       "<table border=\"1\" class=\"dataframe\">\n",
       "  <thead>\n",
       "    <tr style=\"text-align: right;\">\n",
       "      <th></th>\n",
       "      <th>L2_AETI_A</th>\n",
       "    </tr>\n",
       "  </thead>\n",
       "  <tbody>\n",
       "    <tr>\n",
       "      <th>format</th>\n",
       "      <td>Raster Dataset</td>\n",
       "    </tr>\n",
       "    <tr>\n",
       "      <th>unit</th>\n",
       "      <td>mm</td>\n",
       "    </tr>\n",
       "    <tr>\n",
       "      <th>dataType</th>\n",
       "      <td>Int32 (32bit Unsigned Integer)</td>\n",
       "    </tr>\n",
       "    <tr>\n",
       "      <th>conversionFactor</th>\n",
       "      <td>the pixel value in the downloaded data must be...</td>\n",
       "    </tr>\n",
       "    <tr>\n",
       "      <th>noDataValue</th>\n",
       "      <td>-9999</td>\n",
       "    </tr>\n",
       "    <tr>\n",
       "      <th>spatialResolution</th>\n",
       "      <td>100m (0.000992 degree)</td>\n",
       "    </tr>\n",
       "    <tr>\n",
       "      <th>spatialExtent</th>\n",
       "      <td>Africa and Near East</td>\n",
       "    </tr>\n",
       "    <tr>\n",
       "      <th>spatialReferenceSystem</th>\n",
       "      <td>EPSG:4326 - WGS84 - Geographic Coordinate Syst...</td>\n",
       "    </tr>\n",
       "    <tr>\n",
       "      <th>temporalResolution</th>\n",
       "      <td>from January 2009 to present</td>\n",
       "    </tr>\n",
       "    <tr>\n",
       "      <th>temporalExtent</th>\n",
       "      <td>Annual</td>\n",
       "    </tr>\n",
       "    <tr>\n",
       "      <th>methodology</th>\n",
       "      <td>See ETIa by dekad for further information. The...</td>\n",
       "    </tr>\n",
       "    <tr>\n",
       "      <th>dimensions</th>\n",
       "      <td>code                                          ...</td>\n",
       "    </tr>\n",
       "    <tr>\n",
       "      <th>measures</th>\n",
       "      <td>code                                          ...</td>\n",
       "    </tr>\n",
       "  </tbody>\n",
       "</table>\n",
       "</div>"
      ],
      "text/plain": [
       "                                                                L2_AETI_A\n",
       "format                                                     Raster Dataset\n",
       "unit                                                                   mm\n",
       "dataType                                   Int32 (32bit Unsigned Integer)\n",
       "conversionFactor        the pixel value in the downloaded data must be...\n",
       "noDataValue                                                         -9999\n",
       "spatialResolution                                  100m (0.000992 degree)\n",
       "spatialExtent                                        Africa and Near East\n",
       "spatialReferenceSystem  EPSG:4326 - WGS84 - Geographic Coordinate Syst...\n",
       "temporalResolution                           from January 2009 to present\n",
       "temporalExtent                                                     Annual\n",
       "methodology             See ETIa by dekad for further information. The...\n",
       "dimensions              code                                          ...\n",
       "measures                code                                          ..."
      ]
     },
     "execution_count": 5,
     "metadata": {},
     "output_type": "execute_result"
    }
   ],
   "source": [
    "cube_info = hkv.read_wapor.get_info_cube(cube_code=ds_code)\n",
    "cube_info"
   ]
  },
  {
   "cell_type": "code",
   "execution_count": 6,
   "metadata": {},
   "outputs": [
    {
     "data": {
      "text/html": [
       "<div>\n",
       "<style scoped>\n",
       "    .dataframe tbody tr th:only-of-type {\n",
       "        vertical-align: middle;\n",
       "    }\n",
       "\n",
       "    .dataframe tbody tr th {\n",
       "        vertical-align: top;\n",
       "    }\n",
       "\n",
       "    .dataframe thead th {\n",
       "        text-align: right;\n",
       "    }\n",
       "</style>\n",
       "<table border=\"1\" class=\"dataframe\">\n",
       "  <thead>\n",
       "    <tr style=\"text-align: right;\">\n",
       "      <th>code</th>\n",
       "      <th>YEAR</th>\n",
       "    </tr>\n",
       "  </thead>\n",
       "  <tbody>\n",
       "    <tr>\n",
       "      <th>caption</th>\n",
       "      <td>Year</td>\n",
       "    </tr>\n",
       "    <tr>\n",
       "      <th>code</th>\n",
       "      <td>YEAR</td>\n",
       "    </tr>\n",
       "    <tr>\n",
       "      <th>hierarchical</th>\n",
       "      <td>False</td>\n",
       "    </tr>\n",
       "    <tr>\n",
       "      <th>links</th>\n",
       "      <td>[{'rel': 'self', 'href': 'https://io.apps.fao....</td>\n",
       "    </tr>\n",
       "    <tr>\n",
       "      <th>timeSubtype</th>\n",
       "      <td>YEAR</td>\n",
       "    </tr>\n",
       "    <tr>\n",
       "      <th>type</th>\n",
       "      <td>TIME</td>\n",
       "    </tr>\n",
       "    <tr>\n",
       "      <th>workspaceCode</th>\n",
       "      <td>WAPOR</td>\n",
       "    </tr>\n",
       "    <tr>\n",
       "      <th>season</th>\n",
       "      <td>NaN</td>\n",
       "    </tr>\n",
       "    <tr>\n",
       "      <th>stage</th>\n",
       "      <td>NaN</td>\n",
       "    </tr>\n",
       "  </tbody>\n",
       "</table>\n",
       "</div>"
      ],
      "text/plain": [
       "code                                                        YEAR\n",
       "caption                                                     Year\n",
       "code                                                        YEAR\n",
       "hierarchical                                               False\n",
       "links          [{'rel': 'self', 'href': 'https://io.apps.fao....\n",
       "timeSubtype                                                 YEAR\n",
       "type                                                        TIME\n",
       "workspaceCode                                              WAPOR\n",
       "season                                                       NaN\n",
       "stage                                                        NaN"
      ]
     },
     "execution_count": 6,
     "metadata": {},
     "output_type": "execute_result"
    }
   ],
   "source": [
    "# show the dimensions\n",
    "cube_info.loc['dimensions',ds_code]"
   ]
  },
  {
   "cell_type": "code",
   "execution_count": 7,
   "metadata": {},
   "outputs": [
    {
     "data": {
      "text/html": [
       "<div>\n",
       "<style scoped>\n",
       "    .dataframe tbody tr th:only-of-type {\n",
       "        vertical-align: middle;\n",
       "    }\n",
       "\n",
       "    .dataframe tbody tr th {\n",
       "        vertical-align: top;\n",
       "    }\n",
       "\n",
       "    .dataframe thead th {\n",
       "        text-align: right;\n",
       "    }\n",
       "</style>\n",
       "<table border=\"1\" class=\"dataframe\">\n",
       "  <thead>\n",
       "    <tr style=\"text-align: right;\">\n",
       "      <th>code</th>\n",
       "      <th>WATER_MM</th>\n",
       "    </tr>\n",
       "  </thead>\n",
       "  <tbody>\n",
       "    <tr>\n",
       "      <th>caption</th>\n",
       "      <td>Amount of Water</td>\n",
       "    </tr>\n",
       "    <tr>\n",
       "      <th>code</th>\n",
       "      <td>WATER_MM</td>\n",
       "    </tr>\n",
       "    <tr>\n",
       "      <th>description</th>\n",
       "      <td>Amount of water expressed in mm which can be c...</td>\n",
       "    </tr>\n",
       "    <tr>\n",
       "      <th>links</th>\n",
       "      <td>[{'rel': 'self', 'href': 'https://io.apps.fao....</td>\n",
       "    </tr>\n",
       "    <tr>\n",
       "      <th>multiplier</th>\n",
       "      <td>0.1</td>\n",
       "    </tr>\n",
       "    <tr>\n",
       "      <th>scale</th>\n",
       "      <td>3</td>\n",
       "    </tr>\n",
       "    <tr>\n",
       "      <th>unit</th>\n",
       "      <td>mm</td>\n",
       "    </tr>\n",
       "    <tr>\n",
       "      <th>workspaceCode</th>\n",
       "      <td>WAPOR</td>\n",
       "    </tr>\n",
       "  </tbody>\n",
       "</table>\n",
       "</div>"
      ],
      "text/plain": [
       "code                                                    WATER_MM\n",
       "caption                                          Amount of Water\n",
       "code                                                    WATER_MM\n",
       "description    Amount of water expressed in mm which can be c...\n",
       "links          [{'rel': 'self', 'href': 'https://io.apps.fao....\n",
       "multiplier                                                   0.1\n",
       "scale                                                          3\n",
       "unit                                                          mm\n",
       "workspaceCode                                              WAPOR"
      ]
     },
     "execution_count": 7,
     "metadata": {},
     "output_type": "execute_result"
    }
   ],
   "source": [
    "# show the measures\n",
    "cube_info.loc['measures',ds_code]"
   ]
  },
  {
   "cell_type": "markdown",
   "metadata": {},
   "source": [
    "#### get the data availability of the product within a set time_range"
   ]
  },
  {
   "cell_type": "code",
   "execution_count": 8,
   "metadata": {},
   "outputs": [
    {
     "name": "stdout",
     "output_type": "stream",
     "text": [
      "data_avail_period: YEAR\n"
     ]
    }
   ],
   "source": [
    "df_avail = hkv.read_wapor.get_data_availability(\n",
    "    cube_info = cube_info, \n",
    "    time_range = '[2001-11-01, 2018-08-01]'\n",
    "    )"
   ]
  },
  {
   "cell_type": "code",
   "execution_count": 9,
   "metadata": {},
   "outputs": [
    {
     "data": {
      "text/html": [
       "<div>\n",
       "<style scoped>\n",
       "    .dataframe tbody tr th:only-of-type {\n",
       "        vertical-align: middle;\n",
       "    }\n",
       "\n",
       "    .dataframe tbody tr th {\n",
       "        vertical-align: top;\n",
       "    }\n",
       "\n",
       "    .dataframe thead th {\n",
       "        text-align: right;\n",
       "    }\n",
       "</style>\n",
       "<table border=\"1\" class=\"dataframe\">\n",
       "  <thead>\n",
       "    <tr style=\"text-align: right;\">\n",
       "      <th></th>\n",
       "      <th>raster_id</th>\n",
       "      <th>bbox_srid</th>\n",
       "      <th>bbox_value</th>\n",
       "    </tr>\n",
       "    <tr>\n",
       "      <th>year</th>\n",
       "      <th></th>\n",
       "      <th></th>\n",
       "      <th></th>\n",
       "    </tr>\n",
       "  </thead>\n",
       "  <tbody>\n",
       "    <tr>\n",
       "      <th>2013</th>\n",
       "      <td>L2_AETI_13</td>\n",
       "      <td>EPSG:4326</td>\n",
       "      <td>[-17.6800595, -26.9816468, 54.5500992, 38.3308...</td>\n",
       "    </tr>\n",
       "    <tr>\n",
       "      <th>2014</th>\n",
       "      <td>L2_AETI_14</td>\n",
       "      <td>EPSG:4326</td>\n",
       "      <td>[-17.6800595, -26.9816468, 54.5500992, 38.3308...</td>\n",
       "    </tr>\n",
       "    <tr>\n",
       "      <th>2015</th>\n",
       "      <td>L2_AETI_15</td>\n",
       "      <td>EPSG:4326</td>\n",
       "      <td>[-17.6800595, -26.9816468, 54.5500992, 38.3308...</td>\n",
       "    </tr>\n",
       "    <tr>\n",
       "      <th>2016</th>\n",
       "      <td>L2_AETI_16</td>\n",
       "      <td>EPSG:4326</td>\n",
       "      <td>[-17.6800595, -26.9816468, 54.5500992, 38.3308...</td>\n",
       "    </tr>\n",
       "    <tr>\n",
       "      <th>2017</th>\n",
       "      <td>L2_AETI_17</td>\n",
       "      <td>EPSG:4326</td>\n",
       "      <td>[-17.6800595, -26.9816468, 54.5500992, 38.3308...</td>\n",
       "    </tr>\n",
       "  </tbody>\n",
       "</table>\n",
       "</div>"
      ],
      "text/plain": [
       "       raster_id  bbox_srid                                         bbox_value\n",
       "year                                                                          \n",
       "2013  L2_AETI_13  EPSG:4326  [-17.6800595, -26.9816468, 54.5500992, 38.3308...\n",
       "2014  L2_AETI_14  EPSG:4326  [-17.6800595, -26.9816468, 54.5500992, 38.3308...\n",
       "2015  L2_AETI_15  EPSG:4326  [-17.6800595, -26.9816468, 54.5500992, 38.3308...\n",
       "2016  L2_AETI_16  EPSG:4326  [-17.6800595, -26.9816468, 54.5500992, 38.3308...\n",
       "2017  L2_AETI_17  EPSG:4326  [-17.6800595, -26.9816468, 54.5500992, 38.3308..."
      ]
     },
     "execution_count": 9,
     "metadata": {},
     "output_type": "execute_result"
    }
   ],
   "source": [
    "df_avail.tail()"
   ]
  },
  {
   "cell_type": "markdown",
   "metadata": {},
   "source": [
    "#### get the locations (countries and bassins) for which data products are available"
   ]
  },
  {
   "cell_type": "code",
   "execution_count": 10,
   "metadata": {},
   "outputs": [
    {
     "data": {
      "text/html": [
       "<div>\n",
       "<style scoped>\n",
       "    .dataframe tbody tr th:only-of-type {\n",
       "        vertical-align: middle;\n",
       "    }\n",
       "\n",
       "    .dataframe tbody tr th {\n",
       "        vertical-align: top;\n",
       "    }\n",
       "\n",
       "    .dataframe thead th {\n",
       "        text-align: right;\n",
       "    }\n",
       "</style>\n",
       "<table border=\"1\" class=\"dataframe\">\n",
       "  <thead>\n",
       "    <tr style=\"text-align: right;\">\n",
       "      <th></th>\n",
       "      <th>name</th>\n",
       "      <th>code</th>\n",
       "      <th>type</th>\n",
       "      <th>bbox</th>\n",
       "    </tr>\n",
       "  </thead>\n",
       "  <tbody>\n",
       "    <tr>\n",
       "      <th>0</th>\n",
       "      <td>Awash</td>\n",
       "      <td>7010</td>\n",
       "      <td>BASIN</td>\n",
       "      <td>[37.9583333333327, 7.89583333333234, 43.320833...</td>\n",
       "    </tr>\n",
       "    <tr>\n",
       "      <th>1</th>\n",
       "      <td>Jordan</td>\n",
       "      <td>6006</td>\n",
       "      <td>BASIN</td>\n",
       "      <td>[34.4249999999993, 29.4624999999998, 36.799999...</td>\n",
       "    </tr>\n",
       "    <tr>\n",
       "      <th>2</th>\n",
       "      <td>Litani</td>\n",
       "      <td>6002</td>\n",
       "      <td>BASIN</td>\n",
       "      <td>[35.2291666666659, 33.0999999999998, 36.399999...</td>\n",
       "    </tr>\n",
       "    <tr>\n",
       "      <th>3</th>\n",
       "      <td>Niger</td>\n",
       "      <td>7002</td>\n",
       "      <td>BASIN</td>\n",
       "      <td>[-11.5874999999999, 4.27083333333253, 15.85833...</td>\n",
       "    </tr>\n",
       "    <tr>\n",
       "      <th>4</th>\n",
       "      <td>Nile</td>\n",
       "      <td>7003</td>\n",
       "      <td>BASIN</td>\n",
       "      <td>[23.4458333333329, -4.0291666666674, 39.808333...</td>\n",
       "    </tr>\n",
       "  </tbody>\n",
       "</table>\n",
       "</div>"
      ],
      "text/plain": [
       "     name  code   type                                               bbox\n",
       "0   Awash  7010  BASIN  [37.9583333333327, 7.89583333333234, 43.320833...\n",
       "1  Jordan  6006  BASIN  [34.4249999999993, 29.4624999999998, 36.799999...\n",
       "2  Litani  6002  BASIN  [35.2291666666659, 33.0999999999998, 36.399999...\n",
       "3   Niger  7002  BASIN  [-11.5874999999999, 4.27083333333253, 15.85833...\n",
       "4    Nile  7003  BASIN  [23.4458333333329, -4.0291666666674, 39.808333..."
      ]
     },
     "execution_count": 10,
     "metadata": {},
     "output_type": "execute_result"
    }
   ],
   "source": [
    "df_locations = hkv.read_wapor.get_locations()\n",
    "df_locations.head()"
   ]
  },
  {
   "cell_type": "markdown",
   "metadata": {},
   "source": [
    "#### set a lococation type and location code to query a certain product"
   ]
  },
  {
   "cell_type": "code",
   "execution_count": 11,
   "metadata": {},
   "outputs": [
    {
     "name": "stdout",
     "output_type": "stream",
     "text": [
      "BASIN 7010 Awash\n"
     ]
    }
   ],
   "source": [
    "location = df_locations.iloc[0]\n",
    "loc_type = location['type']\n",
    "loc_code = location['code']\n",
    "print(loc_type, loc_code, location['name'])"
   ]
  },
  {
   "cell_type": "markdown",
   "metadata": {},
   "source": [
    "#### set the raster id of the product to query"
   ]
  },
  {
   "cell_type": "code",
   "execution_count": 12,
   "metadata": {},
   "outputs": [
    {
     "name": "stdout",
     "output_type": "stream",
     "text": [
      "L2_AETI_09\n"
     ]
    }
   ],
   "source": [
    "cube_period = df_avail.iloc[0]\n",
    "raster_id = cube_period['raster_id']\n",
    "print(raster_id)"
   ]
  },
  {
   "cell_type": "markdown",
   "metadata": {},
   "source": [
    "#### get the coverage url from where the product can be obtained. Remember that this requires a WaPOR registered email address and password to be obtained from https://wapor.apps.fao.org/sign-in"
   ]
  },
  {
   "cell_type": "code",
   "execution_count": 13,
   "metadata": {},
   "outputs": [],
   "source": [
    "cov_object = hkv.read_wapor.get_coverage_url(\n",
    "    email = 'user@domain.com', \n",
    "    password = 'mypassword',\n",
    "    raster_id = raster_id,\n",
    "    cube_code = ds_code,\n",
    "    loc_type = loc_type,\n",
    "    loc_code = loc_code)"
   ]
  },
  {
   "cell_type": "code",
   "execution_count": 14,
   "metadata": {},
   "outputs": [
    {
     "data": {
      "text/plain": [
       "{'expiry_datetime': datetime.datetime(2018, 8, 28, 17, 41, 16, 125150),\n",
       " 'download_url': 'https://io.apps.fao.org/gismgr/download/3d/97/1e/b2-cbf8-4189-bf49-0a6c47eb1677/L2_AETI_09_7010.tif'}"
      ]
     },
     "execution_count": 14,
     "metadata": {},
     "output_type": "execute_result"
    }
   ],
   "source": [
    "cov_object"
   ]
  },
  {
   "cell_type": "markdown",
   "metadata": {},
   "source": [
    "#### Please download carefully, all L1 products are at least 1 GigaByte for each coverage product"
   ]
  },
  {
   "cell_type": "code",
   "execution_count": 15,
   "metadata": {},
   "outputs": [],
   "source": [
    "if cov_object['expiry_datetime'] > datetime.datetime.now():\n",
    "    # url still valid\n",
    "    resp = requests.get(cov_object['download_url'])"
   ]
  },
  {
   "cell_type": "code",
   "execution_count": 16,
   "metadata": {},
   "outputs": [],
   "source": [
    "# load data into memory\n",
    "image_data = BytesIO(resp.content)\n",
    "filename = uuid.uuid4().hex\n",
    "mmap_name = \"/vsimem/{}\".format(filename)\n",
    "gdal.FileFromMemBuffer(mmap_name, image_data.read())\n",
    "dataset = gdal.Open(mmap_name)"
   ]
  },
  {
   "cell_type": "code",
   "execution_count": 17,
   "metadata": {},
   "outputs": [
    {
     "name": "stdout",
     "output_type": "stream",
     "text": [
      "Driver: GTiff/GeoTIFF\n",
      "Files: /vsimem/79d4d2b236f4451dbe6b01673f4c3154\n",
      "Size is 5406, 4529\n",
      "Coordinate System is:\n",
      "GEOGCS[\"WGS 84\",\n",
      "    DATUM[\"WGS_1984\",\n",
      "        SPHEROID[\"WGS 84\",6378137,298.257223563,\n",
      "            AUTHORITY[\"EPSG\",\"7030\"]],\n",
      "        AUTHORITY[\"EPSG\",\"6326\"]],\n",
      "    PRIMEM[\"Greenwich\",0],\n",
      "    UNIT[\"degree\",0.0174532925199433],\n",
      "    AUTHORITY[\"EPSG\",\"4326\"]]\n",
      "Origin = (37.957837282836003,12.388392873200001)\n",
      "Pixel Size = (0.000992063492000,-0.000992063492000)\n",
      "Metadata:\n",
      "  AREA_OR_POINT=Area\n",
      "Image Structure Metadata:\n",
      "  COMPRESSION=LZW\n",
      "  INTERLEAVE=BAND\n",
      "Corner Coordinates:\n",
      "Upper Left  (  37.9578373,  12.3883929) ( 37d57'28.21\"E, 12d23'18.21\"N)\n",
      "Lower Left  (  37.9578373,   7.8953373) ( 37d57'28.21\"E,  7d53'43.21\"N)\n",
      "Upper Right (  43.3209325,  12.3883929) ( 43d19'15.36\"E, 12d23'18.21\"N)\n",
      "Lower Right (  43.3209325,   7.8953373) ( 43d19'15.36\"E,  7d53'43.21\"N)\n",
      "Center      (  40.6393849,  10.1418651) ( 40d38'21.79\"E, 10d 8'30.71\"N)\n",
      "Band 1 Block=256x256 Type=Int32, ColorInterp=Gray\n",
      "  NoData Value=-9999\n",
      "  Overviews: 2703x2265, 1352x1133, 676x567, 338x284, 169x142\n",
      "\n"
     ]
    }
   ],
   "source": [
    "# get gdal info\n",
    "print(gdal.Info(mmap_name))"
   ]
  },
  {
   "cell_type": "markdown",
   "metadata": {},
   "source": [
    "#### plot the result using matplotlib"
   ]
  },
  {
   "cell_type": "code",
   "execution_count": 18,
   "metadata": {},
   "outputs": [
    {
     "data": {
      "image/png": "[encoded data removed]",
      "text/plain": [
       "<Figure size 432x288 with 2 Axes>"
      ]
     },
     "metadata": {},
     "output_type": "display_data"
    }
   ],
   "source": [
    "im = plt.imshow(dataset.ReadAsArray())\n",
    "plt.colorbar(im)\n",
    "plt.show()"
   ]
  }
 ],
 "metadata": {
  "kernelspec": {
   "display_name": "Python 3",
   "language": "python",
   "name": "python3"
  },
  "language_info": {
   "codemirror_mode": {
    "name": "ipython",
    "version": 3
   },
   "file_extension": ".py",
   "mimetype": "text/x-python",
   "name": "python",
   "nbconvert_exporter": "python",
   "pygments_lexer": "ipython3",
   "version": "3.6.5"
  }
 },
 "nbformat": 4,
 "nbformat_minor": 2
}
